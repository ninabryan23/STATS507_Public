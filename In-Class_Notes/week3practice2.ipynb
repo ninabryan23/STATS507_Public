{
 "cells": [
  {
   "cell_type": "markdown",
   "metadata": {
    "colab_type": "text",
    "deletable": false,
    "editable": false,
    "id": "ck4jLznJiooB",
    "nbgrader": {
     "cell_type": "markdown",
     "checksum": "38b4cbfd496d80940cfa87c97061e3be",
     "grade": false,
     "grade_id": "cell-b1db85bf05a65a79",
     "locked": true,
     "schema_version": 3,
     "solution": false,
     "task": false
    }
   },
   "source": [
    "### Lecture 3 Practice: Dictionaries"
   ]
  },
  {
   "cell_type": "markdown",
   "metadata": {
    "colab_type": "text",
    "deletable": false,
    "editable": false,
    "id": "7e5PDMTdlnhr",
    "nbgrader": {
     "cell_type": "markdown",
     "checksum": "028c604f7c4a6b0fd489eb9063fb71bd",
     "grade": false,
     "grade_id": "cell-473f900194560999",
     "locked": true,
     "schema_version": 3,
     "solution": false,
     "task": false
    }
   },
   "source": [
    "### Question 1\n",
    "Define a function called `switch_key_value`, which takes a dictionary as its only argument. Switch the placement of key and value of the dictionary and return it as a new dictionary."
   ]
  },
  {
   "cell_type": "code",
   "execution_count": 1,
   "metadata": {
    "colab": {},
    "colab_type": "code",
    "deletable": false,
    "id": "WxAZ_1kim6sh",
    "nbgrader": {
     "cell_type": "code",
     "checksum": "2eedbb0747607347736b7d1a4128c272",
     "grade": false,
     "grade_id": "cell-6c67d579c481de9b",
     "locked": false,
     "schema_version": 3,
     "solution": true,
     "task": false
    }
   },
   "outputs": [],
   "source": [
    "def switch_key_value(d):\n",
    "    return {v: k for k, v in d.items()}\n"
   ]
  },
  {
   "cell_type": "code",
   "execution_count": 2,
   "metadata": {
    "colab": {
     "base_uri": "https://localhost:8080/",
     "height": 50
    },
    "colab_type": "code",
    "deletable": false,
    "editable": false,
    "executionInfo": {
     "elapsed": 562,
     "status": "ok",
     "timestamp": 1579292843147,
     "user": {
      "displayName": "Su I Iao",
      "photoUrl": "",
      "userId": "14332281953821438041"
     },
     "user_tz": 300
    },
    "id": "z_dqA7Iknyi8",
    "nbgrader": {
     "cell_type": "code",
     "checksum": "295bb45d13286ea6380482681f8b6dbd",
     "grade": true,
     "grade_id": "cell-a0b5ecba31ff8afb",
     "locked": true,
     "points": 1,
     "schema_version": 3,
     "solution": false,
     "task": false
    },
    "outputId": "c6c75a12-4bf5-4a4a-fec6-d8ff32a615b8"
   },
   "outputs": [],
   "source": [
    "assert(switch_key_value({}) == {})\n",
    "assert(switch_key_value({'a': 1, 'b': 2}) == {1: 'a', 2: 'b'})"
   ]
  },
  {
   "cell_type": "markdown",
   "metadata": {
    "colab_type": "text",
    "deletable": false,
    "editable": false,
    "id": "VFPssm6_FZc3",
    "nbgrader": {
     "cell_type": "markdown",
     "checksum": "a87f38c8492b61767e885d079d2d302a",
     "grade": false,
     "grade_id": "cell-0a8adc1fa6b34e68",
     "locked": true,
     "schema_version": 3,
     "solution": false,
     "task": false
    }
   },
   "source": [
    "### Question 2\n",
    "Define a function called `sort_list_dict`, which takes a dictionary whose values are lists as its only argument. Sort all these lists alphabetically return them in a new dictionary (with the same keys)."
   ]
  },
  {
   "cell_type": "code",
   "execution_count": 6,
   "metadata": {
    "colab": {},
    "colab_type": "code",
    "deletable": false,
    "id": "JHxAJ3FVFZtp",
    "nbgrader": {
     "cell_type": "code",
     "checksum": "b56a1aa75b1fd9167b0fe4e604544558",
     "grade": false,
     "grade_id": "cell-996c61e79b68ca6d",
     "locked": false,
     "schema_version": 3,
     "solution": true,
     "task": false
    }
   },
   "outputs": [],
   "source": [
    "def sort_list_dict(d):\n",
    "    new_dict = {}\n",
    "    for k, v in d.items():\n",
    "        v = sorted(v)\n",
    "        new_dict[k] = v\n",
    "    return new_dict\n"
   ]
  },
  {
   "cell_type": "code",
   "execution_count": 7,
   "metadata": {
    "colab": {
     "base_uri": "https://localhost:8080/",
     "height": 67
    },
    "colab_type": "code",
    "deletable": false,
    "editable": false,
    "executionInfo": {
     "elapsed": 549,
     "status": "ok",
     "timestamp": 1579292870194,
     "user": {
      "displayName": "Su I Iao",
      "photoUrl": "",
      "userId": "14332281953821438041"
     },
     "user_tz": 300
    },
    "id": "jVSzw4ivFaCH",
    "nbgrader": {
     "cell_type": "code",
     "checksum": "7932ad3e28e709a6bd84389f8fc9584f",
     "grade": true,
     "grade_id": "cell-f752b519fbf2ac78",
     "locked": true,
     "points": 1,
     "schema_version": 3,
     "solution": false,
     "task": false
    },
    "outputId": "f76a2571-e22b-4bc3-e8b9-4368c538fde4"
   },
   "outputs": [],
   "source": [
    "assert(sort_list_dict({}) == {})\n",
    "\n",
    "assert(sort_list_dict({'a': []}) == {'a': []})\n",
    "\n",
    "input_dict = {'a': [4, 1, 2, 3], 'b': [3, 2, 1]}\n",
    "desired_output = {'a': [1, 2, 3, 4], 'b': [1, 2, 3]}\n",
    "assert(sort_list_dict(input_dict) == desired_output)\n",
    "\n",
    "input_dict = {'S': [2, 3, 1], 'T': [5, 1, 2], 'D': [3, 2, 4]}\n",
    "desired_output = {'S': [1, 2, 3], 'T': [1, 2, 5], 'D': [2, 3, 4]}\n",
    "assert(sort_list_dict(input_dict) == desired_output)"
   ]
  }
 ],
 "metadata": {
  "colab": {
   "collapsed_sections": [],
   "name": "Lecture 2 practice Solution.ipynb",
   "provenance": []
  },
  "kernelspec": {
   "display_name": "Python 3 (ipykernel)",
   "language": "python",
   "name": "python3"
  },
  "language_info": {
   "codemirror_mode": {
    "name": "ipython",
    "version": 3
   },
   "file_extension": ".py",
   "mimetype": "text/x-python",
   "name": "python",
   "nbconvert_exporter": "python",
   "pygments_lexer": "ipython3",
   "version": "3.12.6"
  }
 },
 "nbformat": 4,
 "nbformat_minor": 4
}
