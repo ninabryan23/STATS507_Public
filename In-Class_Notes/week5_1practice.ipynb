{
 "cells": [
  {
   "cell_type": "markdown",
   "metadata": {
    "colab_type": "text",
    "deletable": false,
    "editable": true,
    "id": "ck4jLznJiooB",
    "nbgrader": {
     "cell_type": "markdown",
     "checksum": "38b4cbfd496d80940cfa87c97061e3be",
     "grade": false,
     "grade_id": "cell-b1db85bf05a65a79",
     "locked": true,
     "schema_version": 3,
     "solution": false,
     "task": false
    },
    "slideshow": {
     "slide_type": ""
    },
    "tags": []
   },
   "source": [
    "### Lecture 5 Practice: Two Sum"
   ]
  },
  {
   "cell_type": "markdown",
   "metadata": {
    "colab_type": "text",
    "deletable": false,
    "editable": true,
    "id": "7e5PDMTdlnhr",
    "nbgrader": {
     "cell_type": "markdown",
     "checksum": "028c604f7c4a6b0fd489eb9063fb71bd",
     "grade": false,
     "grade_id": "cell-473f900194560999",
     "locked": true,
     "schema_version": 3,
     "solution": false,
     "task": false
    },
    "slideshow": {
     "slide_type": ""
    },
    "tags": []
   },
   "source": [
    "Given an array of integers nums and an integer `target`, return indices of the two numbers such that they add up to `target`.\n",
    "\n",
    "You may assume that each input would have exactly one solution, and you may not use the same element twice. You can return the answer in any order.\n",
    "\n",
    "**Note:**: This is a classical interview question and will be the same question for HW5."
   ]
  },
  {
   "cell_type": "code",
   "execution_count": 1,
   "metadata": {
    "deletable": false,
    "slideshow": {
     "slide_type": ""
    },
    "tags": []
   },
   "outputs": [],
   "source": [
    "def two_sum_brute_force(nums, target):\n",
    "    \"\"\"\n",
    "    O(n^2) solution using brute force approach.\n",
    "    \"\"\"\n",
    "    for i in range(len(nums)):\n",
    "        for j in range(i + 1, len(nums)):\n",
    "            if nums[i] + nums[j] == target:\n",
    "                print (i, j)\n",
    "                return [i, j]\n",
    "\n",
    "def two_sum_dict(nums, target):\n",
    "    \"\"\"\n",
    "    O(n) solution using hash table(dictionary) approach.\n",
    "    \"\"\"\n",
    "    num_dict = {}\n",
    "\n",
    "    for i, num in enumerate(nums):\n",
    "        if target - num in num_dict:\n",
    "            return [num_dict[target - num], i]\n",
    "        num_dict[num] = i\n",
    "\n",
    "    # for num in nums:\n",
    "    #     if target - num in nums:\n",
    "    #         #print (nums.index(num), nums.index(target - num))\n",
    "    #         return [nums.index(num), nums.index(target - num)]"
   ]
  },
  {
   "cell_type": "code",
   "execution_count": 2,
   "metadata": {
    "editable": true,
    "slideshow": {
     "slide_type": ""
    },
    "tags": []
   },
   "outputs": [
    {
     "name": "stdout",
     "output_type": "stream",
     "text": [
      "0 1\n",
      "1 2\n"
     ]
    }
   ],
   "source": [
    "assert two_sum_brute_force([2, 7, 11, 15], 9) == [0, 1], \"Test case 1 failed\"\n",
    "assert two_sum_brute_force([3, 2, 4], 6) == [1, 2], \"Test case 2 failed\"\n",
    "assert two_sum_dict([2, 7, 11, 15], 9) == [0, 1], \"Test case 1 failed\"\n",
    "assert two_sum_dict([3, 2, 4], 6) == [1, 2], \"Test case 2 failed\""
   ]
  },
  {
   "cell_type": "markdown",
   "metadata": {},
   "source": [
    "### Part 2: Profiling \n",
    "Implement a function called `profile_function` that measures the execution time of any given function. The function should:\n",
    "\n",
    "1) Accept a function func as its first argument and any number of additional arguments `*arg` to be passed to func.\n",
    "2) Return a tuple containing the result of the function call and the execution time"
   ]
  },
  {
   "cell_type": "code",
   "execution_count": 3,
   "metadata": {},
   "outputs": [],
   "source": [
    "# Profiling\n",
    "import time\n",
    "def profile_function(func, *args):\n",
    "    start = time.perf_counter()\n",
    "    result = func(*args)\n",
    "    end = time.perf_counter()\n",
    "    return result, end - start"
   ]
  },
  {
   "cell_type": "code",
   "execution_count": 4,
   "metadata": {},
   "outputs": [
    {
     "name": "stdout",
     "output_type": "stream",
     "text": [
      "\n",
      "Input: nums = [2, 7, 11, 15], target = 9\n",
      "0 1\n",
      "Brute Force: Result = [0, 1], Time = 0.000004 seconds\n",
      "Using dictionary: Result = [0, 1], Time = 0.000001 seconds\n",
      "\n",
      "Input: nums = [3, 2, 4], target = 6\n",
      "1 2\n",
      "Brute Force: Result = [1, 2], Time = 0.000003 seconds\n",
      "Using dictionary: Result = [1, 2], Time = 0.000001 seconds\n"
     ]
    }
   ],
   "source": [
    "nums1 = [2, 7, 11, 15]\n",
    "target1 = 9\n",
    "nums2 = [3, 2, 4]\n",
    "target2 = 6\n",
    "for nums, target in [(nums1, target1), (nums2, target2)]:\n",
    "    print(f\"\\nInput: nums = {nums}, target = {target}\")\n",
    "    \n",
    "    bf_result, bf_time = profile_function(two_sum_brute_force, nums, target)\n",
    "    print(f\"Brute Force: Result = {bf_result}, Time = {bf_time:.6f} seconds\")\n",
    "    \n",
    "    ht_result, ht_time = profile_function(two_sum_dict, nums, target)\n",
    "    print(f\"Using dictionary: Result = {ht_result}, Time = {ht_time:.6f} seconds\")"
   ]
  }
 ],
 "metadata": {
  "colab": {
   "collapsed_sections": [],
   "name": "Lecture 2 practice Solution.ipynb",
   "provenance": []
  },
  "kernelspec": {
   "display_name": "Python 3 (ipykernel)",
   "language": "python",
   "name": "python3"
  },
  "language_info": {
   "codemirror_mode": {
    "name": "ipython",
    "version": 3
   },
   "file_extension": ".py",
   "mimetype": "text/x-python",
   "name": "python",
   "nbconvert_exporter": "python",
   "pygments_lexer": "ipython3",
   "version": "3.12.6"
  }
 },
 "nbformat": 4,
 "nbformat_minor": 4
}
